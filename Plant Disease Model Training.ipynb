Model training in google colab 
